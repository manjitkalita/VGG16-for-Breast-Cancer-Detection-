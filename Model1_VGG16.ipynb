{
  "cells": [
    {
      "cell_type": "code",
      "execution_count": null,
      "metadata": {
        "id": "C9FloctY8DN0"
      },
      "outputs": [],
      "source": [
        "import cv2\n",
        "import keras\n",
        "from keras.layers import Dense, Conv2D, MaxPooling2D, Flatten, Input\n",
        "from keras.models import Model\n",
        "import numpy as np\n",
        "import os\n",
        "import tensorflow as tf"
      ]
    },
    {
      "cell_type": "code",
      "execution_count": null,
      "metadata": {
        "colab": {
          "base_uri": "https://localhost:8080/"
        },
        "id": "g5-o9JLAb1na",
        "outputId": "e15d9a51-da92-419d-b150-a3233661568c"
      },
      "outputs": [
        {
          "output_type": "stream",
          "name": "stdout",
          "text": [
            "Mounted at /content/drive\n"
          ]
        }
      ],
      "source": [
        "from google.colab import drive\n",
        "drive.mount('/content/drive')"
      ]
    },
    {
      "cell_type": "code",
      "execution_count": null,
      "metadata": {
        "id": "2QM6GlW21P0r"
      },
      "outputs": [],
      "source": [
        "def VGGupdated():\n",
        "    img_input = Input(shape=(224, 224, 3))\n",
        "\n",
        "    # Block 1\n",
        "    x = Conv2D(64, (3, 3), activation='relu', padding='same')(img_input)\n",
        "    x = Conv2D(64, (3, 3), activation='relu', padding='same')(x)\n",
        "    x = MaxPooling2D((2, 2), strides=(2, 2))(x)\n",
        "\n",
        "    # Block 2\n",
        "    x = Conv2D(128, (3, 3), activation='relu', padding='same')(x)\n",
        "    x = Conv2D(128, (3, 3), activation='relu', padding='same')(x)\n",
        "    x = MaxPooling2D((2, 2), strides=(2, 2))(x)\n",
        "\n",
        "    # Block 3\n",
        "    x = Conv2D(256, (3, 3), activation='relu', padding='same')(x)\n",
        "    x = Conv2D(256, (3, 3), activation='relu', padding='same')(x)\n",
        "    x = Conv2D(256, (3, 3), activation='relu', padding='same')(x)\n",
        "    x = MaxPooling2D((2, 2), strides=(2, 2))(x)\n",
        "\n",
        "    # Block 4\n",
        "    x = Conv2D(512, (3, 3), activation='relu', padding='same')(x)\n",
        "    x = Conv2D(512, (3, 3), activation='relu', padding='same')(x)\n",
        "    x = Conv2D(512, (3, 3), activation='relu', padding='same')(x)\n",
        "    x = MaxPooling2D((2, 2), strides=(2, 2))(x)\n",
        "\n",
        "    # Block 5\n",
        "    x = Conv2D(512, (3, 3), activation='relu', padding='same')(x)\n",
        "    x = Conv2D(512, (3, 3), activation='relu', padding='same')(x)\n",
        "    x = Conv2D(512, (3, 3), activation='relu', padding='same')(x)\n",
        "    x = MaxPooling2D((2, 2), strides=(2, 2))(x)\n",
        "\n",
        "\n",
        "    # Classification block\n",
        "    x = Flatten()(x)\n",
        "    x = Dense(4096, activation='relu')(x)\n",
        "    x = Dense(4096, activation='relu')(x)\n",
        "    x = Dense(2, activation='softmax')(x)\n",
        "\n",
        "    # Create model.\n",
        "\n",
        "\n",
        "    model = Model(inputs = img_input, outputs = x)\n",
        "\n",
        "\n",
        "    return model"
      ]
    },
    {
      "cell_type": "code",
      "execution_count": null,
      "metadata": {
        "colab": {
          "base_uri": "https://localhost:8080/"
        },
        "collapsed": true,
        "id": "Kptamfb61XeP",
        "outputId": "bb921685-8c21-47e1-d04b-5dda729f3626"
      },
      "outputs": [
        {
          "output_type": "stream",
          "name": "stdout",
          "text": [
            "Model: \"model\"\n",
            "_________________________________________________________________\n",
            " Layer (type)                Output Shape              Param #   \n",
            "=================================================================\n",
            " input_1 (InputLayer)        [(None, 224, 224, 3)]     0         \n",
            "                                                                 \n",
            " conv2d (Conv2D)             (None, 224, 224, 64)      1792      \n",
            "                                                                 \n",
            " conv2d_1 (Conv2D)           (None, 224, 224, 64)      36928     \n",
            "                                                                 \n",
            " max_pooling2d (MaxPooling2  (None, 112, 112, 64)      0         \n",
            " D)                                                              \n",
            "                                                                 \n",
            " conv2d_2 (Conv2D)           (None, 112, 112, 128)     73856     \n",
            "                                                                 \n",
            " conv2d_3 (Conv2D)           (None, 112, 112, 128)     147584    \n",
            "                                                                 \n",
            " max_pooling2d_1 (MaxPoolin  (None, 56, 56, 128)       0         \n",
            " g2D)                                                            \n",
            "                                                                 \n",
            " conv2d_4 (Conv2D)           (None, 56, 56, 256)       295168    \n",
            "                                                                 \n",
            " conv2d_5 (Conv2D)           (None, 56, 56, 256)       590080    \n",
            "                                                                 \n",
            " conv2d_6 (Conv2D)           (None, 56, 56, 256)       590080    \n",
            "                                                                 \n",
            " max_pooling2d_2 (MaxPoolin  (None, 28, 28, 256)       0         \n",
            " g2D)                                                            \n",
            "                                                                 \n",
            " conv2d_7 (Conv2D)           (None, 28, 28, 512)       1180160   \n",
            "                                                                 \n",
            " conv2d_8 (Conv2D)           (None, 28, 28, 512)       2359808   \n",
            "                                                                 \n",
            " conv2d_9 (Conv2D)           (None, 28, 28, 512)       2359808   \n",
            "                                                                 \n",
            " max_pooling2d_3 (MaxPoolin  (None, 14, 14, 512)       0         \n",
            " g2D)                                                            \n",
            "                                                                 \n",
            " conv2d_10 (Conv2D)          (None, 14, 14, 512)       2359808   \n",
            "                                                                 \n",
            " conv2d_11 (Conv2D)          (None, 14, 14, 512)       2359808   \n",
            "                                                                 \n",
            " conv2d_12 (Conv2D)          (None, 14, 14, 512)       2359808   \n",
            "                                                                 \n",
            " max_pooling2d_4 (MaxPoolin  (None, 7, 7, 512)         0         \n",
            " g2D)                                                            \n",
            "                                                                 \n",
            " flatten (Flatten)           (None, 25088)             0         \n",
            "                                                                 \n",
            " dense (Dense)               (None, 4096)              102764544 \n",
            "                                                                 \n",
            " dense_1 (Dense)             (None, 4096)              16781312  \n",
            "                                                                 \n",
            " dense_2 (Dense)             (None, 2)                 8194      \n",
            "                                                                 \n",
            "=================================================================\n",
            "Total params: 134268738 (512.19 MB)\n",
            "Trainable params: 134268738 (512.19 MB)\n",
            "Non-trainable params: 0 (0.00 Byte)\n",
            "_________________________________________________________________\n"
          ]
        }
      ],
      "source": [
        "vgg_model = VGGupdated()\n",
        "vgg_model.summary()"
      ]
    },
    {
      "cell_type": "code",
      "execution_count": null,
      "metadata": {
        "id": "kJXoZSd9d8Lk"
      },
      "outputs": [],
      "source": [
        "from keras.preprocessing.image import ImageDataGenerator"
      ]
    },
    {
      "cell_type": "code",
      "execution_count": null,
      "metadata": {
        "id": "yGU5rY50Wfqu"
      },
      "outputs": [],
      "source": [
        "train_dir = '/content/drive/MyDrive/Data_Int/BreakHis_v1_100/output/train'\n",
        "val_dir = '/content/drive/MyDrive/Data_Int/BreakHis_v1_100/output/val'\n",
        "test_dir = '/content/drive/MyDrive/Data_Int/BreakHis_v1_100/output/test'"
      ]
    },
    {
      "cell_type": "code",
      "execution_count": null,
      "metadata": {
        "id": "5Tsld-vhduwr"
      },
      "outputs": [],
      "source": [
        "#train_datagen = ImageDataGenerator(\n",
        "#    rescale=1./255,\n",
        "#    shear_range=0.2,\n",
        "#    zoom_range=0.2,\n",
        "#    horizontal_flip=True\n",
        "#)\n",
        "\n",
        "train_datagen = ImageDataGenerator(\n",
        "    rescale=1./255,\n",
        "    shear_range=0.2,\n",
        "    zoom_range=0.2,\n",
        "    rotation_range=20,\n",
        "    width_shift_range=0.2,\n",
        "    height_shift_range=0.2,\n",
        "    horizontal_flip=True,\n",
        "    fill_mode='nearest'\n",
        ")"
      ]
    },
    {
      "cell_type": "code",
      "execution_count": null,
      "metadata": {
        "id": "LLT7rq__d9wR"
      },
      "outputs": [],
      "source": [
        "val_datagen = ImageDataGenerator(rescale=1./255)\n",
        "test_datagen = ImageDataGenerator(rescale=1./255)"
      ]
    },
    {
      "cell_type": "code",
      "execution_count": null,
      "metadata": {
        "colab": {
          "base_uri": "https://localhost:8080/"
        },
        "id": "ao0u3jC8gIKt",
        "outputId": "155c82d7-e1ed-4bdb-db8f-060bdfbf1be3"
      },
      "outputs": [
        {
          "output_type": "stream",
          "name": "stdout",
          "text": [
            "Found 1455 images belonging to 2 classes.\n"
          ]
        }
      ],
      "source": [
        "train_generator = train_datagen.flow_from_directory(\n",
        "    train_dir,\n",
        "    target_size=(224, 224),\n",
        "    batch_size=16,\n",
        "    class_mode='categorical'\n",
        ")"
      ]
    },
    {
      "cell_type": "code",
      "execution_count": null,
      "metadata": {
        "colab": {
          "base_uri": "https://localhost:8080/"
        },
        "id": "YnhtHgUpgZTK",
        "outputId": "1db1a079-b2f9-44b1-f74c-ef7dede1758e"
      },
      "outputs": [
        {
          "output_type": "stream",
          "name": "stdout",
          "text": [
            "Found 415 images belonging to 2 classes.\n"
          ]
        }
      ],
      "source": [
        "val_generator = val_datagen.flow_from_directory(\n",
        "    val_dir,\n",
        "    target_size=(224, 224),\n",
        "    batch_size=16,\n",
        "    class_mode='categorical'\n",
        ")"
      ]
    },
    {
      "cell_type": "code",
      "execution_count": null,
      "metadata": {
        "colab": {
          "base_uri": "https://localhost:8080/"
        },
        "id": "NxxH-tXIghIk",
        "outputId": "b4de6bce-026f-465c-ad03-0e1e2cab1b7f"
      },
      "outputs": [
        {
          "output_type": "stream",
          "name": "stdout",
          "text": [
            "Found 211 images belonging to 2 classes.\n"
          ]
        }
      ],
      "source": [
        "test_generator = test_datagen.flow_from_directory(\n",
        "    test_dir,\n",
        "    target_size=(224, 224),\n",
        "    batch_size=16,\n",
        "    class_mode='categorical'\n",
        ")"
      ]
    },
    {
      "cell_type": "code",
      "execution_count": null,
      "metadata": {
        "id": "PG1CZKNOgmHe"
      },
      "outputs": [],
      "source": [
        "vgg_model.compile(optimizer='adam', loss='categorical_crossentropy', metrics=['accuracy'])"
      ]
    },
    {
      "cell_type": "code",
      "execution_count": null,
      "metadata": {
        "colab": {
          "base_uri": "https://localhost:8080/"
        },
        "id": "vUKjQx-GgqpS",
        "outputId": "06c2c934-143f-4af9-fbc7-57110a551cba"
      },
      "outputs": [
        {
          "output_type": "stream",
          "name": "stdout",
          "text": [
            "Epoch 1/100\n",
            "90/90 [==============================] - 506s 5s/step - loss: 0.7068 - accuracy: 0.6796 - val_loss: 0.6255 - val_accuracy: 0.6850\n",
            "Epoch 2/100\n",
            "90/90 [==============================] - 56s 616ms/step - loss: 0.6192 - accuracy: 0.6901 - val_loss: 0.6135 - val_accuracy: 0.6975\n",
            "Epoch 3/100\n",
            "90/90 [==============================] - 55s 612ms/step - loss: 0.6258 - accuracy: 0.6894 - val_loss: 0.6200 - val_accuracy: 0.6900\n",
            "Epoch 4/100\n",
            "90/90 [==============================] - 59s 656ms/step - loss: 0.6227 - accuracy: 0.6915 - val_loss: 0.6145 - val_accuracy: 0.6975\n",
            "Epoch 5/100\n",
            "90/90 [==============================] - 59s 651ms/step - loss: 0.6211 - accuracy: 0.6908 - val_loss: 0.6150 - val_accuracy: 0.6950\n",
            "Epoch 6/100\n",
            "90/90 [==============================] - 57s 625ms/step - loss: 0.6234 - accuracy: 0.6894 - val_loss: 0.6157 - val_accuracy: 0.6950\n",
            "Epoch 7/100\n",
            "90/90 [==============================] - 59s 660ms/step - loss: 0.6190 - accuracy: 0.6921 - val_loss: 0.6302 - val_accuracy: 0.6825\n",
            "Epoch 8/100\n",
            "90/90 [==============================] - 56s 617ms/step - loss: 0.6224 - accuracy: 0.6915 - val_loss: 0.6180 - val_accuracy: 0.6975\n",
            "Epoch 9/100\n",
            "90/90 [==============================] - 59s 651ms/step - loss: 0.6183 - accuracy: 0.6921 - val_loss: 0.6132 - val_accuracy: 0.6975\n",
            "Epoch 10/100\n",
            "90/90 [==============================] - 55s 609ms/step - loss: 0.6186 - accuracy: 0.6921 - val_loss: 0.6174 - val_accuracy: 0.6925\n",
            "Epoch 11/100\n",
            "90/90 [==============================] - 55s 605ms/step - loss: 0.6231 - accuracy: 0.6887 - val_loss: 0.6171 - val_accuracy: 0.6925\n",
            "Epoch 12/100\n",
            "90/90 [==============================] - 55s 613ms/step - loss: 0.6180 - accuracy: 0.6921 - val_loss: 0.6204 - val_accuracy: 0.6900\n",
            "Epoch 13/100\n",
            "90/90 [==============================] - 58s 642ms/step - loss: 0.6187 - accuracy: 0.6908 - val_loss: 0.6221 - val_accuracy: 0.6900\n",
            "Epoch 14/100\n",
            "90/90 [==============================] - 57s 626ms/step - loss: 0.6195 - accuracy: 0.6921 - val_loss: 0.6182 - val_accuracy: 0.6925\n",
            "Epoch 15/100\n",
            "90/90 [==============================] - 55s 609ms/step - loss: 0.6178 - accuracy: 0.6908 - val_loss: 0.6213 - val_accuracy: 0.6975\n",
            "Epoch 16/100\n",
            "90/90 [==============================] - 55s 610ms/step - loss: 0.6228 - accuracy: 0.6901 - val_loss: 0.6211 - val_accuracy: 0.6875\n",
            "Epoch 17/100\n",
            "90/90 [==============================] - 54s 602ms/step - loss: 0.6240 - accuracy: 0.6880 - val_loss: 0.6172 - val_accuracy: 0.6925\n",
            "Epoch 18/100\n",
            "90/90 [==============================] - 54s 598ms/step - loss: 0.6197 - accuracy: 0.6915 - val_loss: 0.6242 - val_accuracy: 0.6850\n",
            "Epoch 19/100\n",
            "90/90 [==============================] - 55s 610ms/step - loss: 0.6213 - accuracy: 0.6908 - val_loss: 0.6212 - val_accuracy: 0.6875\n",
            "Epoch 20/100\n",
            "90/90 [==============================] - 58s 642ms/step - loss: 0.6188 - accuracy: 0.6908 - val_loss: 0.6235 - val_accuracy: 0.6900\n",
            "Epoch 21/100\n",
            "90/90 [==============================] - 57s 628ms/step - loss: 0.6193 - accuracy: 0.6928 - val_loss: 0.6243 - val_accuracy: 0.6850\n",
            "Epoch 22/100\n",
            "90/90 [==============================] - 54s 604ms/step - loss: 0.6182 - accuracy: 0.6921 - val_loss: 0.6212 - val_accuracy: 0.6875\n",
            "Epoch 23/100\n",
            "90/90 [==============================] - 57s 629ms/step - loss: 0.6209 - accuracy: 0.6901 - val_loss: 0.6175 - val_accuracy: 0.6925\n",
            "Epoch 24/100\n",
            "90/90 [==============================] - 57s 628ms/step - loss: 0.6206 - accuracy: 0.6894 - val_loss: 0.6227 - val_accuracy: 0.6900\n",
            "Epoch 25/100\n",
            "90/90 [==============================] - 56s 616ms/step - loss: 0.6196 - accuracy: 0.6915 - val_loss: 0.6253 - val_accuracy: 0.6850\n",
            "Epoch 26/100\n",
            "90/90 [==============================] - 55s 614ms/step - loss: 0.6197 - accuracy: 0.6915 - val_loss: 0.6211 - val_accuracy: 0.6875\n",
            "Epoch 27/100\n",
            "90/90 [==============================] - 57s 631ms/step - loss: 0.6198 - accuracy: 0.6901 - val_loss: 0.6192 - val_accuracy: 0.6900\n",
            "Epoch 28/100\n",
            "90/90 [==============================] - 57s 632ms/step - loss: 0.6204 - accuracy: 0.6901 - val_loss: 0.6136 - val_accuracy: 0.6975\n",
            "Epoch 29/100\n",
            "90/90 [==============================] - 55s 611ms/step - loss: 0.6190 - accuracy: 0.6915 - val_loss: 0.6171 - val_accuracy: 0.6925\n",
            "Epoch 30/100\n",
            "90/90 [==============================] - 57s 628ms/step - loss: 0.6201 - accuracy: 0.6901 - val_loss: 0.6113 - val_accuracy: 0.7000\n",
            "Epoch 31/100\n",
            "90/90 [==============================] - 56s 624ms/step - loss: 0.6187 - accuracy: 0.6935 - val_loss: 0.6211 - val_accuracy: 0.6875\n",
            "Epoch 32/100\n",
            "90/90 [==============================] - 56s 621ms/step - loss: 0.6187 - accuracy: 0.6915 - val_loss: 0.6133 - val_accuracy: 0.6975\n",
            "Epoch 33/100\n",
            "90/90 [==============================] - 58s 640ms/step - loss: 0.6189 - accuracy: 0.6921 - val_loss: 0.6230 - val_accuracy: 0.6850\n",
            "Epoch 34/100\n",
            "90/90 [==============================] - 56s 621ms/step - loss: 0.6191 - accuracy: 0.6908 - val_loss: 0.6203 - val_accuracy: 0.6900\n",
            "Epoch 35/100\n",
            "90/90 [==============================] - 56s 617ms/step - loss: 0.6183 - accuracy: 0.6915 - val_loss: 0.6214 - val_accuracy: 0.6925\n",
            "Epoch 36/100\n",
            "90/90 [==============================] - 56s 621ms/step - loss: 0.6193 - accuracy: 0.6921 - val_loss: 0.6173 - val_accuracy: 0.6925\n",
            "Epoch 37/100\n",
            "90/90 [==============================] - 58s 642ms/step - loss: 0.6190 - accuracy: 0.6915 - val_loss: 0.6191 - val_accuracy: 0.6900\n",
            "Epoch 38/100\n",
            "90/90 [==============================] - 55s 615ms/step - loss: 0.6196 - accuracy: 0.6915 - val_loss: 0.6130 - val_accuracy: 0.6975\n",
            "Epoch 39/100\n",
            "90/90 [==============================] - 57s 634ms/step - loss: 0.6192 - accuracy: 0.6921 - val_loss: 0.6184 - val_accuracy: 0.6925\n",
            "Epoch 40/100\n",
            "90/90 [==============================] - 57s 633ms/step - loss: 0.6202 - accuracy: 0.6901 - val_loss: 0.6212 - val_accuracy: 0.6875\n",
            "Epoch 41/100\n",
            "90/90 [==============================] - 54s 602ms/step - loss: 0.6186 - accuracy: 0.6921 - val_loss: 0.6198 - val_accuracy: 0.6900\n",
            "Epoch 42/100\n",
            "90/90 [==============================] - 57s 628ms/step - loss: 0.6195 - accuracy: 0.6908 - val_loss: 0.6191 - val_accuracy: 0.6900\n",
            "Epoch 43/100\n",
            "90/90 [==============================] - 57s 631ms/step - loss: 0.6223 - accuracy: 0.6887 - val_loss: 0.6130 - val_accuracy: 0.6975\n",
            "Epoch 44/100\n",
            "90/90 [==============================] - 54s 603ms/step - loss: 0.6205 - accuracy: 0.6908 - val_loss: 0.6173 - val_accuracy: 0.6925\n",
            "Epoch 45/100\n",
            "90/90 [==============================] - 55s 605ms/step - loss: 0.6199 - accuracy: 0.6901 - val_loss: 0.6213 - val_accuracy: 0.6875\n",
            "Epoch 46/100\n",
            "90/90 [==============================] - 54s 602ms/step - loss: 0.6204 - accuracy: 0.6915 - val_loss: 0.6251 - val_accuracy: 0.6825\n",
            "Epoch 47/100\n",
            "90/90 [==============================] - 57s 636ms/step - loss: 0.6203 - accuracy: 0.6894 - val_loss: 0.6109 - val_accuracy: 0.7000\n",
            "Epoch 48/100\n",
            "90/90 [==============================] - 58s 646ms/step - loss: 0.6179 - accuracy: 0.6928 - val_loss: 0.6229 - val_accuracy: 0.6875\n",
            "Epoch 49/100\n",
            "90/90 [==============================] - 58s 637ms/step - loss: 0.6196 - accuracy: 0.6908 - val_loss: 0.6197 - val_accuracy: 0.6900\n",
            "Epoch 50/100\n",
            "90/90 [==============================] - 57s 638ms/step - loss: 0.6203 - accuracy: 0.6901 - val_loss: 0.6212 - val_accuracy: 0.6875\n",
            "Epoch 51/100\n",
            "90/90 [==============================] - 55s 610ms/step - loss: 0.6200 - accuracy: 0.6901 - val_loss: 0.6233 - val_accuracy: 0.6875\n",
            "Epoch 52/100\n",
            "90/90 [==============================] - 56s 624ms/step - loss: 0.6206 - accuracy: 0.6915 - val_loss: 0.6130 - val_accuracy: 0.6975\n",
            "Epoch 53/100\n",
            "90/90 [==============================] - 54s 604ms/step - loss: 0.6169 - accuracy: 0.6935 - val_loss: 0.6203 - val_accuracy: 0.6900\n",
            "Epoch 54/100\n",
            "90/90 [==============================] - 54s 600ms/step - loss: 0.6215 - accuracy: 0.6887 - val_loss: 0.6192 - val_accuracy: 0.6900\n",
            "Epoch 55/100\n",
            "90/90 [==============================] - 54s 600ms/step - loss: 0.6186 - accuracy: 0.6915 - val_loss: 0.6171 - val_accuracy: 0.6925\n",
            "Epoch 56/100\n",
            "90/90 [==============================] - 55s 609ms/step - loss: 0.6216 - accuracy: 0.6901 - val_loss: 0.6231 - val_accuracy: 0.6850\n",
            "Epoch 57/100\n",
            "90/90 [==============================] - 55s 608ms/step - loss: 0.6201 - accuracy: 0.6908 - val_loss: 0.6231 - val_accuracy: 0.6850\n",
            "Epoch 58/100\n",
            "90/90 [==============================] - 57s 631ms/step - loss: 0.6175 - accuracy: 0.6928 - val_loss: 0.6175 - val_accuracy: 0.6925\n",
            "Epoch 59/100\n",
            "90/90 [==============================] - 57s 635ms/step - loss: 0.6194 - accuracy: 0.6908 - val_loss: 0.6153 - val_accuracy: 0.6950\n",
            "Epoch 60/100\n",
            "90/90 [==============================] - 55s 608ms/step - loss: 0.6175 - accuracy: 0.6928 - val_loss: 0.6173 - val_accuracy: 0.6925\n",
            "Epoch 61/100\n",
            "90/90 [==============================] - 54s 603ms/step - loss: 0.6208 - accuracy: 0.6908 - val_loss: 0.6180 - val_accuracy: 0.6925\n",
            "Epoch 62/100\n",
            "90/90 [==============================] - 54s 601ms/step - loss: 0.6194 - accuracy: 0.6908 - val_loss: 0.6195 - val_accuracy: 0.6900\n",
            "Epoch 63/100\n",
            "90/90 [==============================] - 57s 638ms/step - loss: 0.6183 - accuracy: 0.6921 - val_loss: 0.6192 - val_accuracy: 0.6900\n",
            "Epoch 64/100\n",
            "90/90 [==============================] - 54s 601ms/step - loss: 0.6183 - accuracy: 0.6921 - val_loss: 0.6151 - val_accuracy: 0.6950\n",
            "Epoch 65/100\n",
            "90/90 [==============================] - 57s 629ms/step - loss: 0.6200 - accuracy: 0.6901 - val_loss: 0.6191 - val_accuracy: 0.6900\n",
            "Epoch 66/100\n",
            "90/90 [==============================] - 55s 606ms/step - loss: 0.6171 - accuracy: 0.6935 - val_loss: 0.6117 - val_accuracy: 0.7000\n",
            "Epoch 67/100\n",
            "90/90 [==============================] - 54s 598ms/step - loss: 0.6213 - accuracy: 0.6887 - val_loss: 0.6171 - val_accuracy: 0.6925\n",
            "Epoch 68/100\n",
            "90/90 [==============================] - 56s 625ms/step - loss: 0.6195 - accuracy: 0.6915 - val_loss: 0.6198 - val_accuracy: 0.6900\n",
            "Epoch 69/100\n",
            "90/90 [==============================] - 56s 621ms/step - loss: 0.6214 - accuracy: 0.6894 - val_loss: 0.6213 - val_accuracy: 0.6875\n",
            "Epoch 70/100\n",
            "90/90 [==============================] - 56s 622ms/step - loss: 0.6188 - accuracy: 0.6908 - val_loss: 0.6178 - val_accuracy: 0.6925\n",
            "Epoch 71/100\n",
            "90/90 [==============================] - 56s 621ms/step - loss: 0.6179 - accuracy: 0.6921 - val_loss: 0.6088 - val_accuracy: 0.7025\n",
            "Epoch 72/100\n",
            "90/90 [==============================] - 57s 635ms/step - loss: 0.6182 - accuracy: 0.6921 - val_loss: 0.6171 - val_accuracy: 0.6925\n",
            "Epoch 73/100\n",
            "90/90 [==============================] - 54s 594ms/step - loss: 0.6165 - accuracy: 0.6935 - val_loss: 0.6160 - val_accuracy: 0.6950\n",
            "Epoch 74/100\n",
            "90/90 [==============================] - 57s 638ms/step - loss: 0.6191 - accuracy: 0.6915 - val_loss: 0.6191 - val_accuracy: 0.6900\n",
            "Epoch 75/100\n",
            "90/90 [==============================] - 54s 600ms/step - loss: 0.6214 - accuracy: 0.6901 - val_loss: 0.6195 - val_accuracy: 0.6900\n",
            "Epoch 76/100\n",
            "90/90 [==============================] - 57s 630ms/step - loss: 0.6196 - accuracy: 0.6908 - val_loss: 0.6109 - val_accuracy: 0.7000\n",
            "Epoch 77/100\n",
            "90/90 [==============================] - 57s 631ms/step - loss: 0.6194 - accuracy: 0.6908 - val_loss: 0.6193 - val_accuracy: 0.6900\n",
            "Epoch 78/100\n",
            "90/90 [==============================] - 56s 627ms/step - loss: 0.6192 - accuracy: 0.6908 - val_loss: 0.6186 - val_accuracy: 0.6925\n",
            "Epoch 79/100\n",
            "90/90 [==============================] - 56s 621ms/step - loss: 0.6202 - accuracy: 0.6901 - val_loss: 0.6153 - val_accuracy: 0.6950\n",
            "Epoch 80/100\n",
            "90/90 [==============================] - 57s 632ms/step - loss: 0.6205 - accuracy: 0.6887 - val_loss: 0.6171 - val_accuracy: 0.6925\n",
            "Epoch 81/100\n",
            "90/90 [==============================] - 53s 582ms/step - loss: 0.6213 - accuracy: 0.6880 - val_loss: 0.6192 - val_accuracy: 0.6900\n",
            "Epoch 82/100\n",
            "90/90 [==============================] - 57s 633ms/step - loss: 0.6182 - accuracy: 0.6915 - val_loss: 0.6173 - val_accuracy: 0.6925\n",
            "Epoch 83/100\n",
            "90/90 [==============================] - 53s 589ms/step - loss: 0.6183 - accuracy: 0.6921 - val_loss: 0.6151 - val_accuracy: 0.6950\n",
            "Epoch 84/100\n",
            "90/90 [==============================] - 56s 623ms/step - loss: 0.6183 - accuracy: 0.6915 - val_loss: 0.6211 - val_accuracy: 0.6875\n",
            "Epoch 85/100\n",
            "90/90 [==============================] - 53s 592ms/step - loss: 0.6183 - accuracy: 0.6921 - val_loss: 0.6192 - val_accuracy: 0.6900\n",
            "Epoch 86/100\n",
            "90/90 [==============================] - 57s 633ms/step - loss: 0.6187 - accuracy: 0.6915 - val_loss: 0.6191 - val_accuracy: 0.6900\n",
            "Epoch 87/100\n",
            "90/90 [==============================] - 54s 597ms/step - loss: 0.6191 - accuracy: 0.6921 - val_loss: 0.6232 - val_accuracy: 0.6850\n",
            "Epoch 88/100\n",
            "90/90 [==============================] - 57s 635ms/step - loss: 0.6201 - accuracy: 0.6894 - val_loss: 0.6175 - val_accuracy: 0.6925\n",
            "Epoch 89/100\n",
            "90/90 [==============================] - 56s 621ms/step - loss: 0.6209 - accuracy: 0.6887 - val_loss: 0.6196 - val_accuracy: 0.6900\n",
            "Epoch 90/100\n",
            "90/90 [==============================] - 53s 592ms/step - loss: 0.6209 - accuracy: 0.6887 - val_loss: 0.6233 - val_accuracy: 0.6850\n",
            "Epoch 91/100\n",
            "90/90 [==============================] - 53s 590ms/step - loss: 0.6173 - accuracy: 0.6935 - val_loss: 0.6234 - val_accuracy: 0.6850\n",
            "Epoch 92/100\n",
            "90/90 [==============================] - 56s 622ms/step - loss: 0.6192 - accuracy: 0.6908 - val_loss: 0.6132 - val_accuracy: 0.6975\n",
            "Epoch 93/100\n",
            "90/90 [==============================] - 53s 593ms/step - loss: 0.6185 - accuracy: 0.6915 - val_loss: 0.6191 - val_accuracy: 0.6900\n",
            "Epoch 94/100\n",
            "90/90 [==============================] - 54s 596ms/step - loss: 0.6188 - accuracy: 0.6915 - val_loss: 0.6194 - val_accuracy: 0.6900\n",
            "Epoch 95/100\n",
            "90/90 [==============================] - 56s 619ms/step - loss: 0.6198 - accuracy: 0.6901 - val_loss: 0.6173 - val_accuracy: 0.6925\n",
            "Epoch 96/100\n",
            "90/90 [==============================] - 57s 630ms/step - loss: 0.6210 - accuracy: 0.6894 - val_loss: 0.6153 - val_accuracy: 0.6950\n",
            "Epoch 97/100\n",
            "90/90 [==============================] - 54s 596ms/step - loss: 0.6210 - accuracy: 0.6887 - val_loss: 0.6211 - val_accuracy: 0.6875\n",
            "Epoch 98/100\n",
            "90/90 [==============================] - 54s 596ms/step - loss: 0.6200 - accuracy: 0.6901 - val_loss: 0.6191 - val_accuracy: 0.6900\n",
            "Epoch 99/100\n",
            "90/90 [==============================] - 56s 618ms/step - loss: 0.6187 - accuracy: 0.6915 - val_loss: 0.6173 - val_accuracy: 0.6925\n",
            "Epoch 100/100\n",
            "90/90 [==============================] - 54s 598ms/step - loss: 0.6191 - accuracy: 0.6915 - val_loss: 0.6171 - val_accuracy: 0.6925\n"
          ]
        },
        {
          "output_type": "execute_result",
          "data": {
            "text/plain": [
              "<keras.src.callbacks.History at 0x798773f77c70>"
            ]
          },
          "metadata": {},
          "execution_count": 13
        }
      ],
      "source": [
        "vgg_model.fit(\n",
        "    train_generator,\n",
        "    steps_per_epoch=train_generator.samples // train_generator.batch_size,\n",
        "    validation_data=val_generator,\n",
        "    validation_steps=val_generator.samples // val_generator.batch_size,\n",
        "    epochs=100\n",
        ")"
      ]
    },
    {
      "cell_type": "code",
      "execution_count": null,
      "metadata": {
        "id": "1IGqbYhAgu8M",
        "colab": {
          "base_uri": "https://localhost:8080/"
        },
        "outputId": "69be6106-9705-4fe0-e12d-99758448b339"
      },
      "outputs": [
        {
          "output_type": "stream",
          "name": "stdout",
          "text": [
            "13/13 [==============================] - 76s 6s/step - loss: 0.6212 - accuracy: 0.6875\n",
            "Test accuracy: 0.6875\n",
            "Test loss: 0.6211737990379333\n"
          ]
        }
      ],
      "source": [
        "test_loss, test_acc = vgg_model.evaluate(test_generator, steps=test_generator.samples // test_generator.batch_size)\n",
        "print(f'Test accuracy: {test_acc}')\n",
        "print(f'Test loss: {test_loss}')"
      ]
    },
    {
      "cell_type": "code",
      "execution_count": null,
      "metadata": {
        "id": "dmQtOKQQoKK1"
      },
      "outputs": [],
      "source": [
        "vgg_model.save('/content/drive/My Drive/vgg_model.h5')"
      ]
    },
    {
      "cell_type": "code",
      "source": [],
      "metadata": {
        "id": "mscv7KHML4L0"
      },
      "execution_count": null,
      "outputs": []
    }
  ],
  "metadata": {
    "colab": {
      "provenance": []
    },
    "kernelspec": {
      "display_name": "Python 3",
      "name": "python3"
    },
    "language_info": {
      "name": "python"
    }
  },
  "nbformat": 4,
  "nbformat_minor": 0
}